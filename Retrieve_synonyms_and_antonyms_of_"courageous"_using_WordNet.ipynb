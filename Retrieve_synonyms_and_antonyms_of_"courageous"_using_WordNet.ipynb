{
  "nbformat": 4,
  "nbformat_minor": 0,
  "metadata": {
    "colab": {
      "provenance": [],
      "toc_visible": true,
      "authorship_tag": "ABX9TyNOn1RPnNMwalWfX5woRonD",
      "include_colab_link": true
    },
    "kernelspec": {
      "name": "python3",
      "display_name": "Python 3"
    },
    "language_info": {
      "name": "python"
    }
  },
  "cells": [
    {
      "cell_type": "markdown",
      "metadata": {
        "id": "view-in-github",
        "colab_type": "text"
      },
      "source": [
        "<a href=\"https://colab.research.google.com/github/HananehKoushki/NLP-Assignment/blob/master/Retrieve_synonyms_and_antonyms_of_%22courageous%22_using_WordNet.ipynb\" target=\"_parent\"><img src=\"https://colab.research.google.com/assets/colab-badge.svg\" alt=\"Open In Colab\"/></a>"
      ]
    },
    {
      "cell_type": "markdown",
      "source": [
        "**Finding and storing the synonyms and antonyms of a word using WordNet**"
      ],
      "metadata": {
        "id": "ZFl4VFxkg9JT"
      }
    },
    {
      "cell_type": "code",
      "source": [
        "#import and downloading the necessary libraries\n",
        "import nltk\n",
        "nltk.download ('wordnet')\n",
        "from nltk.corpus import wordnet"
      ],
      "metadata": {
        "colab": {
          "base_uri": "https://localhost:8080/"
        },
        "id": "g7qV6HRgfczr",
        "outputId": "8533fb12-206f-4787-f255-ce05c40cfc9c"
      },
      "execution_count": 41,
      "outputs": [
        {
          "output_type": "stream",
          "name": "stderr",
          "text": [
            "[nltk_data] Downloading package wordnet to /root/nltk_data...\n",
            "[nltk_data]   Package wordnet is already up-to-date!\n"
          ]
        }
      ]
    },
    {
      "cell_type": "markdown",
      "source": [
        "### Retrieve synonyms and the first antonyms of the word \"courageous\""
      ],
      "metadata": {
        "id": "_Q-lpqhOR8He"
      }
    },
    {
      "cell_type": "code",
      "source": [
        "# Initialize empty lists to store synonyms and antonyms\n",
        "synonyms = []\n",
        "antonyms = []\n",
        "\n",
        "\n",
        "# Iterate through all synsets (different meanings) of the word \"courageous\"\n",
        "for s in wordnet.synsets('courageous'):\n",
        "\n",
        "\n",
        "    # Iterate through each lemma (dictionary form) in the current synset\n",
        "    for l in s.lemmas():\n",
        "\n",
        "        # Add the lemma name (the word itself) to the synonyms list\n",
        "        synonyms.append(l.name())\n",
        "\n",
        "\n",
        "        # Check if the current lemma has any antonyms\n",
        "        if l.antonyms():\n",
        "            # Retrieve the first antonym's name (if it exists)\n",
        "            antonyms.append(l.antonyms()[0].name())\n",
        "\n",
        "\n",
        "# Print the unique synonyms and antonyms (after removing duplicates)\n",
        "print(\"synonyms of courageous = \", set(synonyms))\n",
        "print(\"antonyms of courageous = \", set(antonyms))"
      ],
      "metadata": {
        "colab": {
          "base_uri": "https://localhost:8080/"
        },
        "id": "YFYLkBmDfywU",
        "outputId": "52fc0e0d-b54a-4eab-f996-c8308e0b4ce2"
      },
      "execution_count": 42,
      "outputs": [
        {
          "output_type": "stream",
          "name": "stdout",
          "text": [
            "synonyms of courageous =  {'brave', 'courageous'}\n",
            "antonyms of courageous =  {'cowardly'}\n"
          ]
        }
      ]
    },
    {
      "cell_type": "markdown",
      "source": [
        "### Retrieve synonyms and the two first antonyms of the word \"courageous\""
      ],
      "metadata": {
        "id": "p59Um33uWVCH"
      }
    },
    {
      "cell_type": "code",
      "source": [
        "# Initialize empty lists to store synonyms and antonyms\n",
        "synonyms = []\n",
        "antonyms = []\n",
        "\n",
        "\n",
        "# Iterate through all synsets (different meanings) of the word \"courageous\"\n",
        "for s in wordnet.synsets('courageous'):\n",
        "\n",
        "\n",
        "  # Iterate through each lemma (dictionary form) in the current synset\n",
        "  for l in s.lemmas():\n",
        "\n",
        "    # Add the lemma name (the word itself) to the synonyms list\n",
        "    synonyms.append(l.name())\n",
        "\n",
        "\n",
        "    # Check if the current lemma has any antonyms\n",
        "    if l.antonyms():\n",
        "\n",
        "      # Retrieve the first antonym and its name\n",
        "      first_antonym = l.antonyms()[0].name()\n",
        "\n",
        "      # Initialize a variable to hold the second antonym (or None)\n",
        "      second_antonym = None\n",
        "\n",
        "      # Check if there's a second antonym (handle potential index out of bounds)\n",
        "      if len(l.antonyms()) > 1:\n",
        "        second_antonym = l.antonyms()[1].name()\n",
        "\n",
        "    # Store both antonyms (or None) in a tuple and append to the antonyms list\n",
        "    antonyms.append((first_antonym, second_antonym))\n",
        "\n",
        "\n",
        "# Print the unique synonyms and antonyms (after removing duplicates)\n",
        "print(\"synonyms of courageous = \", set(synonyms))\n",
        "print(\"antonyms of courageous = \", set(antonyms))"
      ],
      "metadata": {
        "colab": {
          "base_uri": "https://localhost:8080/"
        },
        "id": "hGVb0kqz_08u",
        "outputId": "c553ecbc-9966-4bfa-d6f0-80bb2959329d"
      },
      "execution_count": 43,
      "outputs": [
        {
          "output_type": "stream",
          "name": "stdout",
          "text": [
            "synonyms of courageous =  {'brave', 'courageous'}\n",
            "antonyms of courageous =  {('cowardly', None)}\n"
          ]
        }
      ]
    }
  ]
}
