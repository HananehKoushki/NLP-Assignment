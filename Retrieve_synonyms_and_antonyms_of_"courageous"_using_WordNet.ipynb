{
  "nbformat": 4,
  "nbformat_minor": 0,
  "metadata": {
    "colab": {
      "provenance": [],
      "toc_visible": true,
      "authorship_tag": "ABX9TyNxBmhFoxhiDSlJMRjdHPa2",
      "include_colab_link": true
    },
    "kernelspec": {
      "name": "python3",
      "display_name": "Python 3"
    },
    "language_info": {
      "name": "python"
    }
  },
  "cells": [
    {
      "cell_type": "markdown",
      "metadata": {
        "id": "view-in-github",
        "colab_type": "text"
      },
      "source": [
        "<a href=\"https://colab.research.google.com/github/HananehKoushki/NLP-Assignment/blob/master/Retrieve_synonyms_and_antonyms_of_%22courageous%22_using_WordNet.ipynb\" target=\"_parent\"><img src=\"https://colab.research.google.com/assets/colab-badge.svg\" alt=\"Open In Colab\"/></a>"
      ]
    },
    {
      "cell_type": "code",
      "source": [
        "import nltk\n",
        "nltk.download ('wordnet')\n",
        "from nltk.corpus import wordnet"
      ],
      "metadata": {
        "colab": {
          "base_uri": "https://localhost:8080/"
        },
        "id": "g7qV6HRgfczr",
        "outputId": "feca470a-a7ea-41c0-e9d8-0cff33ed4013"
      },
      "execution_count": 34,
      "outputs": [
        {
          "output_type": "stream",
          "name": "stderr",
          "text": [
            "[nltk_data] Downloading package wordnet to /root/nltk_data...\n",
            "[nltk_data]   Package wordnet is already up-to-date!\n"
          ]
        }
      ]
    },
    {
      "cell_type": "markdown",
      "source": [
        "# Retrieve synonyms and the first antonyms of the word \"courageous\""
      ],
      "metadata": {
        "id": "_Q-lpqhOR8He"
      }
    },
    {
      "cell_type": "code",
      "source": [
        "# Initialize empty lists to store synonyms and antonyms\n",
        "synonyms = []\n",
        "antonyms = []\n",
        "\n",
        "\n",
        "# Iterate through all synsets (different meanings) of the word \"courageous\"\n",
        "for s in wordnet.synsets('courageous'):\n",
        "\n",
        "\n",
        "    # Iterate through each lemma (dictionary form) in the current synset\n",
        "    for l in s.lemmas():\n",
        "\n",
        "        # Add the lemma name (the word itself) to the synonyms list\n",
        "        synonyms.append(l.name())\n",
        "\n",
        "\n",
        "        # Check if the current lemma has any antonyms\n",
        "        if l.antonyms():\n",
        "            # Retrieve the first antonym's name (if it exists)\n",
        "            antonyms.append(l.antonyms()[0].name())\n",
        "\n",
        "\n",
        "# Print the unique synonyms and antonyms (after removing duplicates)\n",
        "print(\"synonyms of courageous = \", set(synonyms))\n",
        "print(\"antonyms of courageous = \", set(antonyms))"
      ],
      "metadata": {
        "colab": {
          "base_uri": "https://localhost:8080/"
        },
        "id": "YFYLkBmDfywU",
        "outputId": "92b73a21-f599-479f-cf64-4006b7813d0e"
      },
      "execution_count": 37,
      "outputs": [
        {
          "output_type": "stream",
          "name": "stdout",
          "text": [
            "synonyms of courageous =  {'brave', 'courageous'}\n",
            "antonyms of courageous =  {'cowardly'}\n"
          ]
        }
      ]
    },
    {
      "cell_type": "markdown",
      "source": [
        "# Retrieve synonyms and the two first antonyms of the word \"courageous\""
      ],
      "metadata": {
        "id": "p59Um33uWVCH"
      }
    },
    {
      "cell_type": "code",
      "source": [
        "# Initialize empty lists to store synonyms and antonyms\n",
        "synonyms = []\n",
        "antonyms = []\n",
        "\n",
        "\n",
        "# Iterate through all synsets (different meanings) of the word \"courageous\"\n",
        "for s in wordnet.synsets('courageous'):\n",
        "\n",
        "\n",
        "  # Iterate through each lemma (dictionary form) in the current synset\n",
        "  for l in s.lemmas():\n",
        "\n",
        "    # Add the lemma name (the word itself) to the synonyms list\n",
        "    synonyms.append(l.name())\n",
        "\n",
        "\n",
        "    # Check if the current lemma has any antonyms\n",
        "    if l.antonyms():\n",
        "\n",
        "      # Retrieve the first antonym and its name\n",
        "      first_antonym = l.antonyms()[0].name()\n",
        "\n",
        "      # Initialize a variable to hold the second antonym (or None)\n",
        "      second_antonym = None\n",
        "\n",
        "      # Check if there's a second antonym (handle potential index out of bounds)\n",
        "      if len(l.antonyms()) > 1:\n",
        "        second_antonym = l.antonyms()[1].name()\n",
        "\n",
        "    # Store both antonyms (or None) in a tuple and append to the antonyms list\n",
        "    antonyms.append((first_antonym, second_antonym))\n",
        "\n",
        "\n",
        "# Print the unique synonyms and antonyms (after removing duplicates)\n",
        "print(\"synonyms of courageous = \", set(synonyms))\n",
        "print(\"antonyms of courageous = \", set(antonyms))"
      ],
      "metadata": {
        "colab": {
          "base_uri": "https://localhost:8080/"
        },
        "id": "hGVb0kqz_08u",
        "outputId": "ddd9413e-d344-449c-b0de-15517b3b3742"
      },
      "execution_count": 38,
      "outputs": [
        {
          "output_type": "stream",
          "name": "stdout",
          "text": [
            "synonyms of courageous =  {'brave', 'courageous'}\n",
            "antonyms of courageous =  {('cowardly', None)}\n"
          ]
        }
      ]
    }
  ]
}